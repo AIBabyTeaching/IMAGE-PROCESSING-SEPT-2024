{
 "cells": [
  {
   "cell_type": "markdown",
   "id": "e2d07a4f",
   "metadata": {},
   "source": [
    "# Image Processing Lab Week 05: Huffman Coding"
   ]
  },
  {
   "cell_type": "markdown",
   "id": "c6df7b40",
   "metadata": {
    "toc": true
   },
   "source": [
    "<h1>Table of Contents<span class=\"tocSkip\"></span></h1>\n",
    "<div class=\"toc\"><ul class=\"toc-item\"><li><span><a href=\"#Image-Processing-Lab-Week-05:-Huffman-Coding\" data-toc-modified-id=\"Image-Processing-Lab-Week-05:-Huffman-Coding-1\"><span class=\"toc-item-num\">1&nbsp;&nbsp;</span>Image Processing Lab Week 05: Huffman Coding</a></span><ul class=\"toc-item\"><li><span><a href=\"#Defining-the-Node-class\" data-toc-modified-id=\"Defining-the-Node-class-1.1\"><span class=\"toc-item-num\">1.1&nbsp;&nbsp;</span>Defining the Node class</a></span></li><li><span><a href=\"#Define-function-to-read-input-file\" data-toc-modified-id=\"Define-function-to-read-input-file-1.2\"><span class=\"toc-item-num\">1.2&nbsp;&nbsp;</span>Define function to read input file</a></span></li><li><span><a href=\"#Define-function-to-get-frequencies-of-characters-in-input-text\" data-toc-modified-id=\"Define-function-to-get-frequencies-of-characters-in-input-text-1.3\"><span class=\"toc-item-num\">1.3&nbsp;&nbsp;</span>Define function to get frequencies of characters in input text</a></span></li><li><span><a href=\"#Define-function-to-get-minimum-frequency-node\" data-toc-modified-id=\"Define-function-to-get-minimum-frequency-node-1.4\"><span class=\"toc-item-num\">1.4&nbsp;&nbsp;</span>Define function to get minimum frequency node</a></span></li><li><span><a href=\"#Define-Function-to-build-the-Huffman-Tree\" data-toc-modified-id=\"Define-Function-to-build-the-Huffman-Tree-1.5\"><span class=\"toc-item-num\">1.5&nbsp;&nbsp;</span>Define Function to build the Huffman Tree</a></span></li><li><span><a href=\"#Define-Function-To-Traverse-the-Tree\" data-toc-modified-id=\"Define-Function-To-Traverse-the-Tree-1.6\"><span class=\"toc-item-num\">1.6&nbsp;&nbsp;</span>Define Function To Traverse the Tree</a></span></li><li><span><a href=\"#Define-function-that-maps-each-character-to-its-Huffman-code.\" data-toc-modified-id=\"Define-function-that-maps-each-character-to-its-Huffman-code.-1.7\"><span class=\"toc-item-num\">1.7&nbsp;&nbsp;</span>Define function that maps each character to its Huffman code.</a></span></li><li><span><a href=\"#Define-Function-to-map-from--each-Huffman-code-to-it's-character\" data-toc-modified-id=\"Define-Function-to-map-from--each-Huffman-code-to-it's-character-1.8\"><span class=\"toc-item-num\">1.8&nbsp;&nbsp;</span>Define Function to map from  each Huffman code to it's character</a></span></li><li><span><a href=\"#Define-Encode-function\" data-toc-modified-id=\"Define-Encode-function-1.9\"><span class=\"toc-item-num\">1.9&nbsp;&nbsp;</span>Define Encode function</a></span></li><li><span><a href=\"#Define-Decode-Function\" data-toc-modified-id=\"Define-Decode-Function-1.10\"><span class=\"toc-item-num\">1.10&nbsp;&nbsp;</span>Define Decode Function</a></span></li><li><span><a href=\"#Test-the-program\" data-toc-modified-id=\"Test-the-program-1.11\"><span class=\"toc-item-num\">1.11&nbsp;&nbsp;</span>Test the program</a></span></li></ul></li></ul></div>"
   ]
  },
  {
   "cell_type": "markdown",
   "id": "7d7625f5",
   "metadata": {},
   "source": [
    "## Defining the Node class"
   ]
  },
  {
   "cell_type": "code",
   "execution_count": 1,
   "id": "64121a75",
   "metadata": {},
   "outputs": [],
   "source": [
    "class Node:\n",
    "    def __init__(self, char, freq):\n",
    "        self.char = char\n",
    "        self.freq = freq\n",
    "        self.left = None\n",
    "        self.right = None\n",
    "        self.used = False\n",
    "        self.code = \"\"\n",
    "    def add(self):\n",
    "        self.freq += 1\n",
    "    def use(self):\n",
    "        self.used = True\n",
    "    def __str__(self):\n",
    "        return f'{self.char} - {self.freq} - {self.used} - {self.code}'"
   ]
  },
  {
   "cell_type": "markdown",
   "id": "9acaa8bd",
   "metadata": {},
   "source": [
    "## Define function to read input file"
   ]
  },
  {
   "cell_type": "code",
   "execution_count": 9,
   "id": "39fe15dd",
   "metadata": {},
   "outputs": [
    {
     "data": {
      "text/plain": [
       "'abcdefabcdefabcdefabcdefabcdefbcdefbcdefbcdefbcdefcdefcdefcdefdefefefeffffffffffffffffffffffffffffff'"
      ]
     },
     "execution_count": 9,
     "metadata": {},
     "output_type": "execute_result"
    }
   ],
   "source": [
    "def read(fileName):\n",
    "    file = open(fileName, \"r\")\n",
    "    lines = ' '.join(file.readlines())\n",
    "    file.close()\n",
    "    return lines\n",
    "read('orginal.txt')"
   ]
  },
  {
   "cell_type": "markdown",
   "id": "bde01e33",
   "metadata": {},
   "source": [
    "## Define function to get frequencies of characters in input text"
   ]
  },
  {
   "cell_type": "code",
   "execution_count": 3,
   "id": "2afb34ee",
   "metadata": {},
   "outputs": [],
   "source": [
    "def getFreq(data):\n",
    "    freq = {}   # Create an empty dictionary to store the character frequency count\n",
    "    for c in data:   # Iterate over each character in the input data\n",
    "        if c == '\\n': continue   # Ignore newline characters and skip to the next iteration\n",
    "        if c in freq: freq[c].add()   # If the character is already in the frequency dictionary, increment its frequency\n",
    "        else: freq[c] = Node(c, 1)   # If the character is not already in the frequency dictionary\n",
    "    freq = list(freq.values())   # Convert the dictionary of frequency counts into a list of Node objects\n",
    "    nodes = sorted(freq, key=lambda x: x.freq)   # Sort the list of Node objects by their frequency counts, in ascending order\n",
    "    return nodes   # Return the sorted list of Node objects\n"
   ]
  },
  {
   "cell_type": "markdown",
   "id": "b697eb18",
   "metadata": {},
   "source": [
    "## Define function to get minimum frequency node"
   ]
  },
  {
   "cell_type": "code",
   "execution_count": 4,
   "id": "ccfaa954",
   "metadata": {},
   "outputs": [],
   "source": [
    "def getMin(nodes):\n",
    "    for node in nodes:\n",
    "        if not node.used:\n",
    "            node.use()\n",
    "            return node\n",
    "    return None"
   ]
  },
  {
   "cell_type": "markdown",
   "id": "b836412b",
   "metadata": {},
   "source": [
    "## Define Function to build the Huffman Tree"
   ]
  },
  {
   "cell_type": "code",
   "execution_count": 5,
   "id": "72583c28",
   "metadata": {},
   "outputs": [],
   "source": [
    "def buildTree(nodes):\n",
    "    while True:\n",
    "        min1, min2 = getMin(nodes), getMin(nodes)\n",
    "        if not min2: return (nodes, min1) \n",
    "        new_node = Node(min1.char+min2.char, min1.freq + min2.freq)\n",
    "        new_node.left = min1\n",
    "        new_node.right = min2\n",
    "        nodes.append(new_node)\n",
    "        nodes = sorted(nodes, key=lambda x: x.freq)"
   ]
  },
  {
   "cell_type": "markdown",
   "id": "2472195c",
   "metadata": {},
   "source": [
    "## Define Function To Traverse the Tree"
   ]
  },
  {
   "cell_type": "code",
   "execution_count": 6,
   "id": "4cae26db",
   "metadata": {},
   "outputs": [],
   "source": [
    "# Recursive function to traverse the Huffman tree and assign codes to the leaf nodes\n",
    "def traverse(root, code):\n",
    "    # If the node is None, return from the function\n",
    "    if not root:\n",
    "        return\n",
    "    # If the node is a leaf node (i.e., has no children), assign the code to the node\n",
    "    if not root.left and not root.right:\n",
    "        root.code = code\n",
    "    # Traverse the left subtree with a code of 0\n",
    "    traverse(root.left, code+\"0\")\n",
    "    # Traverse the right subtree with a code of 1\n",
    "    traverse(root.right, code+\"1\")"
   ]
  },
  {
   "cell_type": "markdown",
   "id": "f408c147",
   "metadata": {},
   "source": [
    "## Define function that maps each character to its Huffman code."
   ]
  },
  {
   "cell_type": "code",
   "execution_count": 7,
   "id": "f378f7eb",
   "metadata": {},
   "outputs": [],
   "source": [
    "def buildMap1(nodes):\n",
    "    map1 = {}\n",
    "    for node in nodes:\n",
    "        map1[node.char] = node.code\n",
    "    return map1"
   ]
  },
  {
   "cell_type": "markdown",
   "id": "8e696b33",
   "metadata": {},
   "source": [
    "## Define Function to map from  each Huffman code to it's character"
   ]
  },
  {
   "cell_type": "code",
   "execution_count": 8,
   "id": "05819f5c",
   "metadata": {},
   "outputs": [],
   "source": [
    "def buildMap2(nodes):\n",
    "    map2 = {}\n",
    "    for node in nodes:\n",
    "        map2[node.code] = node.char\n",
    "    return map2"
   ]
  },
  {
   "cell_type": "markdown",
   "id": "95370546",
   "metadata": {},
   "source": [
    "## Define Encode function "
   ]
  },
  {
   "cell_type": "code",
   "execution_count": 9,
   "id": "350e3134",
   "metadata": {},
   "outputs": [],
   "source": [
    "def encode(input, map1):\n",
    "    res = \"\"\n",
    "    for c in input:\n",
    "        res += map1[c]\n",
    "    return res"
   ]
  },
  {
   "cell_type": "markdown",
   "id": "51d29b20",
   "metadata": {},
   "source": [
    "## Define Decode Function"
   ]
  },
  {
   "cell_type": "code",
   "execution_count": 10,
   "id": "928400fe",
   "metadata": {},
   "outputs": [],
   "source": [
    "def decode(input, map2):\n",
    "    # Initialize an empty string to hold the result\n",
    "    res = \"\"\n",
    "    # Initialize an empty string to accumulate characters from the input\n",
    "    acc = \"\"\n",
    "    # Loop over the characters in the input string\n",
    "    for c in input:\n",
    "        # Add the current character to the accumulator\n",
    "        acc += c\n",
    "        # If the accumulated string is a key in the map, add the corresponding value to the result\n",
    "        # and reset the accumulator\n",
    "        if acc in map2:\n",
    "            res += map2[acc]\n",
    "            acc = \"\"\n",
    "    # Return the decoded string\n",
    "    return res\n"
   ]
  },
  {
   "cell_type": "markdown",
   "id": "119467e5",
   "metadata": {},
   "source": [
    "## Test the program"
   ]
  },
  {
   "cell_type": "code",
   "execution_count": 11,
   "id": "868f23da",
   "metadata": {},
   "outputs": [
    {
     "name": "stdout",
     "output_type": "stream",
     "text": [
      "Reading: orginal.txt\n",
      "Length: 100\n",
      "-----------------------\n",
      "Encoded in binary: 11001101100101111011001101100101111011001101100101111011001101100101111011001101100101111011011001011110110110010111101101100101111011011001011110100101111010010111101001011110101111011101110111000000000000000000000000000000\n",
      "Encoded in hexa:  0xcd97b365ecd97b365ecd97b65ed97b65ed97a5e97a5ebdddc0000000\n",
      "Length after compression: 58\n",
      "compression rate: 42.0%\n",
      "-----------------------\n",
      "decoded text:  abcdefabcdefabcdefabcdefabcdefbcdefbcdefbcdefbcdefcdefcdefcdefdefefefeffffffffffffffffffffffffffffff\n"
     ]
    }
   ],
   "source": [
    "#========================================\n",
    "def main():\n",
    "    #input = sys.argv[1]\n",
    "    input = \"orginal.txt\"\n",
    "    print(f'Reading: {input}')\n",
    "\n",
    "    data = read(input)\n",
    "    print(f'Length: {len(data)}')\n",
    "    \n",
    "    nodes = getFreq(data)\n",
    "    \n",
    "    # for node in nodes: print(f'{node}')\n",
    "    # print(\"-----------------------\")\n",
    "    \n",
    "    nodes, root = buildTree(nodes)\n",
    "    traverse(root, \"\")\n",
    "    \n",
    "    nodes = list(filter(lambda x: x.code , nodes))\n",
    "    \n",
    "    # for node in nodes: print(f'{node}')\n",
    "    print(\"-----------------------\")\n",
    "    map1 = buildMap1(nodes)\n",
    "    map2 = buildMap2(nodes)\n",
    "    # for k, v in map1.items(): print(f'{k} {v}')\n",
    "    # print(\"-----------------------\")\n",
    "    # for k, v in map2.items(): print(f'{k} {v}')\n",
    "    # print(\"-----------------------\")\n",
    "\n",
    "    #================================================\n",
    "    x = encode(data, map1)\n",
    "    print(\"Encoded in binary:\", x)\n",
    "    # y = decode(x, map2)\n",
    "    # print(y)\n",
    "    x = hex(int(x, 2))\n",
    "    print(\"Encoded in hexa: \", x)\n",
    "    print(f'Length after compression: {len(x)}')\n",
    "    print(f'compression rate: {(len(data) - len(x)) / len(data) * 100}%')\n",
    "    print(\"-----------------------\")\n",
    "    x = str(bin(int(x, 16)))[2:]\n",
    "    # print(x)\n",
    "    file = open('output.txt', 'w')\n",
    "    file.write(x)\n",
    "    file.close()\n",
    "    y = decode(x, map2)\n",
    "    print(\"decoded text: \", y)\n",
    "#========================================\n",
    "\n",
    "\n",
    "if __name__ == \"__main__\":\n",
    "    main()"
   ]
  }
 ],
 "metadata": {
  "kernelspec": {
   "display_name": "Python 3 (ipykernel)",
   "language": "python",
   "name": "python3"
  },
  "language_info": {
   "codemirror_mode": {
    "name": "ipython",
    "version": 3
   },
   "file_extension": ".py",
   "mimetype": "text/x-python",
   "name": "python",
   "nbconvert_exporter": "python",
   "pygments_lexer": "ipython3",
   "version": "3.9.7"
  },
  "toc": {
   "base_numbering": 1,
   "nav_menu": {},
   "number_sections": true,
   "sideBar": false,
   "skip_h1_title": false,
   "title_cell": "Table of Contents",
   "title_sidebar": "Contents",
   "toc_cell": true,
   "toc_position": {
    "height": "793px",
    "left": "21px",
    "top": "67.125px",
    "width": "352px"
   },
   "toc_section_display": false,
   "toc_window_display": true
  }
 },
 "nbformat": 4,
 "nbformat_minor": 5
}
