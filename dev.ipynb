{
 "cells": [
  {
   "cell_type": "markdown",
   "metadata": {},
   "source": [
    "About:\n",
    "- 6 out of total didn't pass\n",
    "- Dr. Hany Hanafy (Call 8:30 PM 9-11 to inform him that we need to stick with our syllabus and course material)\n",
    "- Working with codespaces if the students are working properly"
   ]
  },
  {
   "cell_type": "markdown",
   "metadata": {},
   "source": [
    "    https://youtu.be/Z58HfJ4DEz4       Lec10\n",
    "    https://youtu.be/z0dcwykcP0E        Lec9\n",
    "    https://youtu.be/CvKNeKmG_5c     Lec8\n",
    "    https://youtu.be/XKsvpYt8n6M      Lec7-1\n",
    "    https://youtu.be/uBYFgKSIu4I        Lec7-2\n",
    "    https://youtu.be/AGCNyQaGbe0    Lec5\n",
    "    https://youtu.be/6QKYLDndtFE      Lec4\n",
    "    https://youtu.be/qndtA52NvIk       Lec3\n",
    "    https://youtu.be/LJIRqbCjbNU       Lec2\n",
    "    https://youtu.be/Pnd8TQLELX4     Lec1       \n",
    "    https://drive.google.com/file/d/17FigUlisuQFUeyp4MarBNxiSWIgtB4MQ/view?usp=drive_link   Lec13 Part 1\n",
    "    https://drive.google.com/file/d/14sKNHQndk1KOa2LUL8u3YSuNiM40o2J7/view?usp=sharing  Lec13 Part 2\n",
    "    https://youtu.be/ArxbUgTJ_ic    Lec14\n",
    "    https://youtu.be/zeZnboYzpNA    Lec15"
   ]
  },
  {
   "cell_type": "markdown",
   "metadata": {},
   "source": [
    "Syllabus:\n",
    "\n",
    "- Section 1:\n",
    "    1. Introduction, image formation, Image Representations and Color\n",
    "    spaces, indexed-image (Examples) and K-means clustering (Examples abstracting),\n",
    "        - How pictures are captured: Quantization, Encoding, Decoding and Storing\n",
    "        - Color spaces > each color space cases\n",
    "        - Examples: Indexed-image and K-Means Clustering (Abstract) [Might be completed in 2nd section]\n",
    "- Section 2:\n",
    "    - Coding and classworks/assignments\n",
    "- Section 3:\n",
    "    2. Image Compression (JPEG) and video compression (H264 and MPEG) part 1\n",
    "- Section 4: \n",
    "    2. Image Compression (JPEG) and video compression (H264 and MPEG) part 1\n",
    "3. Image manipulation and Enhancement (Image Resizing, histogram\n",
    "manipulation, image point operations, contrast enhancing, etc.)\n",
    "4. Image Spatial Domain Filtering (blur, gaussian, median, adaptive\n",
    "median filters, etc.)\n",
    "5. Image Frequency Domain Filtering (LP, BP and HP “2D” filters)\n",
    "6. Edge Detection and Blob detection (SIFT algorithm) and the\n",
    "RANSAC algorithm\n",
    "7. Image Morphological Analysis and Applications (Region growing)\n",
    "8. Image Classification and detection using machine learning\n",
    "methods (Adaboost and Haar-cascade algorithm & Image feature\n",
    "extraction methods, KNN and SVM)"
   ]
  }
 ],
 "metadata": {
  "language_info": {
   "name": "python"
  }
 },
 "nbformat": 4,
 "nbformat_minor": 2
}
