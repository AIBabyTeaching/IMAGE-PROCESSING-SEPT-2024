{
 "cells": [
  {
   "cell_type": "markdown",
   "metadata": {},
   "source": [
    "# Agenda"
   ]
  },
  {
   "cell_type": "markdown",
   "metadata": {},
   "source": [
    "Note:\n",
    "- Classroom creation\n",
    "- Exams "
   ]
  },
  {
   "cell_type": "markdown",
   "metadata": {},
   "source": [
    "## Marks:\n",
    "#### 7th [30]: 15 lecture (7th out of 10, 5 avg 2 quizes) - 15 section/lab? {Agreed}\n",
    "#### 12th [20]: 10 lecture (written) - 5 section/lab? {Agreed}\n",
    "#### Proj: 15 marks (5 12th - 10 in semi-final) {Agreed}\n",
    "#### Given that 7th: 30 marks, 12th: 20 marks, semi-final: 10 marks\n",
    "\n",
    "## Interaction between section(lab) and lecture:\n",
    "#### Coding work in lab and section (including written solved examples)\n",
    "#### Lecture concepts and knowledge\n",
    "\n",
    "## Regulations and adaptations:\n",
    "#### Collaboration and communication weekly\n",
    "#### Handover and agreement \n",
    "##### (if we need to handover something from lecture and vice versa)\n",
    "##### (also if there is something needed to be examintated in section)"
   ]
  }
 ],
 "metadata": {
  "language_info": {
   "name": "python"
  }
 },
 "nbformat": 4,
 "nbformat_minor": 2
}
